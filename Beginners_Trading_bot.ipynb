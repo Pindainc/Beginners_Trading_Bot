{
  "cells": [
    {
      "cell_type": "markdown",
      "metadata": {
        "id": "view-in-github",
        "colab_type": "text"
      },
      "source": [
        "<a href=\"https://colab.research.google.com/github/Pindainc/Beginners_Trading_Bot/blob/main/Beginners_Trading_bot.ipynb\" target=\"_parent\"><img src=\"https://colab.research.google.com/assets/colab-badge.svg\" alt=\"Open In Colab\"/></a>"
      ]
    },
    {
      "cell_type": "markdown",
      "metadata": {
        "id": "xmX1peGRurd4"
      },
      "source": [
        "### 1 - Import test data"
      ]
    },
    {
      "cell_type": "code",
      "execution_count": 3,
      "metadata": {
        "colab": {
          "base_uri": "https://localhost:8080/",
          "height": 473
        },
        "id": "MngVLsbaurd6",
        "outputId": "264d2033-8c53-4bed-f2fd-962762db8109"
      },
      "outputs": [
        {
          "output_type": "stream",
          "name": "stdout",
          "text": [
            "\r[*********************100%***********************]  1 of 1 completed\n"
          ]
        },
        {
          "output_type": "execute_result",
          "data": {
            "text/plain": [
              "                         Open      High       Low     Close  Adj Close  Volume\n",
              "Datetime                                                                      \n",
              "2023-05-29 00:00:00  1.072271  1.072731  1.072156  1.072616   1.072616       0\n",
              "2023-05-29 00:15:00  1.072501  1.072961  1.072501  1.072616   1.072616       0\n",
              "2023-05-29 00:30:00  1.072501  1.072846  1.072501  1.072846   1.072846       0\n",
              "2023-05-29 00:45:00  1.072501  1.072961  1.072501  1.072501   1.072501       0\n",
              "2023-05-29 01:00:00  1.072386  1.072731  1.072156  1.072271   1.072271       0\n",
              "...                       ...       ...       ...       ...        ...     ...\n",
              "2023-06-26 22:45:00  1.090869  1.091107  1.090869  1.090988   1.090988       0\n",
              "2023-06-26 23:00:00  1.091107  1.091107  1.090988  1.091107   1.091107       0\n",
              "2023-06-26 23:15:00  1.091227  1.091465  1.091227  1.091227   1.091227       0\n",
              "2023-06-26 23:30:00  1.091227  1.091346  1.091227  1.091346   1.091346       0\n",
              "2023-06-26 23:45:00  1.091346  1.091465  1.091227  1.091465   1.091465       0\n",
              "\n",
              "[1992 rows x 6 columns]"
            ],
            "text/html": [
              "\n",
              "  <div id=\"df-6adde9fb-cab7-4ae2-a7a2-0dc0e77084ca\">\n",
              "    <div class=\"colab-df-container\">\n",
              "      <div>\n",
              "<style scoped>\n",
              "    .dataframe tbody tr th:only-of-type {\n",
              "        vertical-align: middle;\n",
              "    }\n",
              "\n",
              "    .dataframe tbody tr th {\n",
              "        vertical-align: top;\n",
              "    }\n",
              "\n",
              "    .dataframe thead th {\n",
              "        text-align: right;\n",
              "    }\n",
              "</style>\n",
              "<table border=\"1\" class=\"dataframe\">\n",
              "  <thead>\n",
              "    <tr style=\"text-align: right;\">\n",
              "      <th></th>\n",
              "      <th>Open</th>\n",
              "      <th>High</th>\n",
              "      <th>Low</th>\n",
              "      <th>Close</th>\n",
              "      <th>Adj Close</th>\n",
              "      <th>Volume</th>\n",
              "    </tr>\n",
              "    <tr>\n",
              "      <th>Datetime</th>\n",
              "      <th></th>\n",
              "      <th></th>\n",
              "      <th></th>\n",
              "      <th></th>\n",
              "      <th></th>\n",
              "      <th></th>\n",
              "    </tr>\n",
              "  </thead>\n",
              "  <tbody>\n",
              "    <tr>\n",
              "      <th>2023-05-29 00:00:00</th>\n",
              "      <td>1.072271</td>\n",
              "      <td>1.072731</td>\n",
              "      <td>1.072156</td>\n",
              "      <td>1.072616</td>\n",
              "      <td>1.072616</td>\n",
              "      <td>0</td>\n",
              "    </tr>\n",
              "    <tr>\n",
              "      <th>2023-05-29 00:15:00</th>\n",
              "      <td>1.072501</td>\n",
              "      <td>1.072961</td>\n",
              "      <td>1.072501</td>\n",
              "      <td>1.072616</td>\n",
              "      <td>1.072616</td>\n",
              "      <td>0</td>\n",
              "    </tr>\n",
              "    <tr>\n",
              "      <th>2023-05-29 00:30:00</th>\n",
              "      <td>1.072501</td>\n",
              "      <td>1.072846</td>\n",
              "      <td>1.072501</td>\n",
              "      <td>1.072846</td>\n",
              "      <td>1.072846</td>\n",
              "      <td>0</td>\n",
              "    </tr>\n",
              "    <tr>\n",
              "      <th>2023-05-29 00:45:00</th>\n",
              "      <td>1.072501</td>\n",
              "      <td>1.072961</td>\n",
              "      <td>1.072501</td>\n",
              "      <td>1.072501</td>\n",
              "      <td>1.072501</td>\n",
              "      <td>0</td>\n",
              "    </tr>\n",
              "    <tr>\n",
              "      <th>2023-05-29 01:00:00</th>\n",
              "      <td>1.072386</td>\n",
              "      <td>1.072731</td>\n",
              "      <td>1.072156</td>\n",
              "      <td>1.072271</td>\n",
              "      <td>1.072271</td>\n",
              "      <td>0</td>\n",
              "    </tr>\n",
              "    <tr>\n",
              "      <th>...</th>\n",
              "      <td>...</td>\n",
              "      <td>...</td>\n",
              "      <td>...</td>\n",
              "      <td>...</td>\n",
              "      <td>...</td>\n",
              "      <td>...</td>\n",
              "    </tr>\n",
              "    <tr>\n",
              "      <th>2023-06-26 22:45:00</th>\n",
              "      <td>1.090869</td>\n",
              "      <td>1.091107</td>\n",
              "      <td>1.090869</td>\n",
              "      <td>1.090988</td>\n",
              "      <td>1.090988</td>\n",
              "      <td>0</td>\n",
              "    </tr>\n",
              "    <tr>\n",
              "      <th>2023-06-26 23:00:00</th>\n",
              "      <td>1.091107</td>\n",
              "      <td>1.091107</td>\n",
              "      <td>1.090988</td>\n",
              "      <td>1.091107</td>\n",
              "      <td>1.091107</td>\n",
              "      <td>0</td>\n",
              "    </tr>\n",
              "    <tr>\n",
              "      <th>2023-06-26 23:15:00</th>\n",
              "      <td>1.091227</td>\n",
              "      <td>1.091465</td>\n",
              "      <td>1.091227</td>\n",
              "      <td>1.091227</td>\n",
              "      <td>1.091227</td>\n",
              "      <td>0</td>\n",
              "    </tr>\n",
              "    <tr>\n",
              "      <th>2023-06-26 23:30:00</th>\n",
              "      <td>1.091227</td>\n",
              "      <td>1.091346</td>\n",
              "      <td>1.091227</td>\n",
              "      <td>1.091346</td>\n",
              "      <td>1.091346</td>\n",
              "      <td>0</td>\n",
              "    </tr>\n",
              "    <tr>\n",
              "      <th>2023-06-26 23:45:00</th>\n",
              "      <td>1.091346</td>\n",
              "      <td>1.091465</td>\n",
              "      <td>1.091227</td>\n",
              "      <td>1.091465</td>\n",
              "      <td>1.091465</td>\n",
              "      <td>0</td>\n",
              "    </tr>\n",
              "  </tbody>\n",
              "</table>\n",
              "<p>1992 rows × 6 columns</p>\n",
              "</div>\n",
              "      <button class=\"colab-df-convert\" onclick=\"convertToInteractive('df-6adde9fb-cab7-4ae2-a7a2-0dc0e77084ca')\"\n",
              "              title=\"Convert this dataframe to an interactive table.\"\n",
              "              style=\"display:none;\">\n",
              "        \n",
              "  <svg xmlns=\"http://www.w3.org/2000/svg\" height=\"24px\"viewBox=\"0 0 24 24\"\n",
              "       width=\"24px\">\n",
              "    <path d=\"M0 0h24v24H0V0z\" fill=\"none\"/>\n",
              "    <path d=\"M18.56 5.44l.94 2.06.94-2.06 2.06-.94-2.06-.94-.94-2.06-.94 2.06-2.06.94zm-11 1L8.5 8.5l.94-2.06 2.06-.94-2.06-.94L8.5 2.5l-.94 2.06-2.06.94zm10 10l.94 2.06.94-2.06 2.06-.94-2.06-.94-.94-2.06-.94 2.06-2.06.94z\"/><path d=\"M17.41 7.96l-1.37-1.37c-.4-.4-.92-.59-1.43-.59-.52 0-1.04.2-1.43.59L10.3 9.45l-7.72 7.72c-.78.78-.78 2.05 0 2.83L4 21.41c.39.39.9.59 1.41.59.51 0 1.02-.2 1.41-.59l7.78-7.78 2.81-2.81c.8-.78.8-2.07 0-2.86zM5.41 20L4 18.59l7.72-7.72 1.47 1.35L5.41 20z\"/>\n",
              "  </svg>\n",
              "      </button>\n",
              "      \n",
              "  <style>\n",
              "    .colab-df-container {\n",
              "      display:flex;\n",
              "      flex-wrap:wrap;\n",
              "      gap: 12px;\n",
              "    }\n",
              "\n",
              "    .colab-df-convert {\n",
              "      background-color: #E8F0FE;\n",
              "      border: none;\n",
              "      border-radius: 50%;\n",
              "      cursor: pointer;\n",
              "      display: none;\n",
              "      fill: #1967D2;\n",
              "      height: 32px;\n",
              "      padding: 0 0 0 0;\n",
              "      width: 32px;\n",
              "    }\n",
              "\n",
              "    .colab-df-convert:hover {\n",
              "      background-color: #E2EBFA;\n",
              "      box-shadow: 0px 1px 2px rgba(60, 64, 67, 0.3), 0px 1px 3px 1px rgba(60, 64, 67, 0.15);\n",
              "      fill: #174EA6;\n",
              "    }\n",
              "\n",
              "    [theme=dark] .colab-df-convert {\n",
              "      background-color: #3B4455;\n",
              "      fill: #D2E3FC;\n",
              "    }\n",
              "\n",
              "    [theme=dark] .colab-df-convert:hover {\n",
              "      background-color: #434B5C;\n",
              "      box-shadow: 0px 1px 3px 1px rgba(0, 0, 0, 0.15);\n",
              "      filter: drop-shadow(0px 1px 2px rgba(0, 0, 0, 0.3));\n",
              "      fill: #FFFFFF;\n",
              "    }\n",
              "  </style>\n",
              "\n",
              "      <script>\n",
              "        const buttonEl =\n",
              "          document.querySelector('#df-6adde9fb-cab7-4ae2-a7a2-0dc0e77084ca button.colab-df-convert');\n",
              "        buttonEl.style.display =\n",
              "          google.colab.kernel.accessAllowed ? 'block' : 'none';\n",
              "\n",
              "        async function convertToInteractive(key) {\n",
              "          const element = document.querySelector('#df-6adde9fb-cab7-4ae2-a7a2-0dc0e77084ca');\n",
              "          const dataTable =\n",
              "            await google.colab.kernel.invokeFunction('convertToInteractive',\n",
              "                                                     [key], {});\n",
              "          if (!dataTable) return;\n",
              "\n",
              "          const docLinkHtml = 'Like what you see? Visit the ' +\n",
              "            '<a target=\"_blank\" href=https://colab.research.google.com/notebooks/data_table.ipynb>data table notebook</a>'\n",
              "            + ' to learn more about interactive tables.';\n",
              "          element.innerHTML = '';\n",
              "          dataTable['output_type'] = 'display_data';\n",
              "          await google.colab.output.renderOutput(dataTable, element);\n",
              "          const docLink = document.createElement('div');\n",
              "          docLink.innerHTML = docLinkHtml;\n",
              "          element.appendChild(docLink);\n",
              "        }\n",
              "      </script>\n",
              "    </div>\n",
              "  </div>\n",
              "  "
            ]
          },
          "metadata": {},
          "execution_count": 3
        }
      ],
      "source": [
        "import yfinance as yf\n",
        "import pandas as pd\n",
        "\n",
        "dataF = yf.download(\"EURUSD=X\", start=\"2023-05-27\", end=\"2023-06-27\", interval='15m')\n",
        "dataF.iloc[:,:]\n",
        "#dataF.Open.iloc"
      ]
    },
    {
      "cell_type": "markdown",
      "metadata": {
        "id": "gxqO_XLKurd8"
      },
      "source": [
        "### 2 - Define your signal function"
      ]
    },
    {
      "cell_type": "code",
      "execution_count": null,
      "metadata": {
        "id": "9wsQbbSburd8"
      },
      "outputs": [],
      "source": [
        "def signal_generator(df):\n",
        "    open = df.Open.iloc[-1]\n",
        "    close = df.Close.iloc[-1]\n",
        "    previous_open = df.Open.iloc[-2]\n",
        "    previous_close = df.Close.iloc[-2]\n",
        "\n",
        "    # Bearish Pattern\n",
        "    if (open>close and\n",
        "    previous_open<previous_close and\n",
        "    close<previous_open and\n",
        "    open>=previous_close):\n",
        "        return 1\n",
        "\n",
        "    # Bullish Pattern\n",
        "    elif (open<close and\n",
        "        previous_open>previous_close and\n",
        "        close>previous_open and\n",
        "        open<=previous_close):\n",
        "        return 2\n",
        "\n",
        "    # No clear pattern\n",
        "    else:\n",
        "        return 0\n",
        "\n",
        "signal = []\n",
        "signal.append(0)\n",
        "for i in range(1,len(dataF)):\n",
        "    df = dataF[i-1:i+1]\n",
        "    signal.append(signal_generator(df))\n",
        "#signal_generator(data)\n",
        "dataF[\"signal\"] = signal"
      ]
    },
    {
      "cell_type": "code",
      "execution_count": null,
      "metadata": {
        "id": "osguZBGvurd8",
        "outputId": "a71cbe39-6460-4e34-a094-fc93f67bcd68"
      },
      "outputs": [
        {
          "data": {
            "text/plain": [
              "0    3527\n",
              "2     178\n",
              "1     172\n",
              "Name: signal, dtype: int64"
            ]
          },
          "execution_count": 4,
          "metadata": {},
          "output_type": "execute_result"
        }
      ],
      "source": [
        "dataF.signal.value_counts()\n",
        "#dataF.iloc[:, :]"
      ]
    },
    {
      "cell_type": "markdown",
      "metadata": {
        "id": "hQRjPVVSurd9"
      },
      "source": [
        "### 3 - Connect to the market and execute trades"
      ]
    },
    {
      "cell_type": "code",
      "execution_count": null,
      "metadata": {
        "id": "saumf3IIurd9"
      },
      "outputs": [],
      "source": [
        "from apscheduler.schedulers.blocking import BlockingScheduler\n",
        "from oandapyV20 import API\n",
        "import oandapyV20.endpoints.orders as orders\n",
        "from oandapyV20.contrib.requests import MarketOrderRequest\n",
        "from oanda_candles import Pair, Gran, CandleClient\n",
        "from oandapyV20.contrib.requests import TakeProfitDetails, StopLossDetails"
      ]
    },
    {
      "cell_type": "code",
      "execution_count": null,
      "metadata": {
        "id": "p5TrkOJnurd9",
        "outputId": "a82d9848-1db3-4bc0-bbb3-4909ad5bb565"
      },
      "outputs": [
        {
          "name": "stdout",
          "output_type": "stream",
          "text": [
            "True\n",
            "True\n",
            "True\n"
          ]
        }
      ],
      "source": [
        "from config import access_token, accountID\n",
        "def get_candles(n):\n",
        "    #access_token='XXXXXXX'#you need token here generated from OANDA account\n",
        "    client = CandleClient(access_token, real=False)\n",
        "    collector = client.get_collector(Pair.EUR_USD, Gran.M15)\n",
        "    candles = collector.grab(n)\n",
        "    return candles\n",
        "\n",
        "candles = get_candles(3)\n",
        "for candle in candles:\n",
        "    print(float(str(candle.bid.o))>1)\n"
      ]
    },
    {
      "cell_type": "code",
      "execution_count": null,
      "metadata": {
        "id": "rq5HFquCurd-"
      },
      "outputs": [],
      "source": [
        "def trading_job():\n",
        "    candles = get_candles(3)\n",
        "    dfstream = pd.DataFrame(columns=['Open','Close','High','Low'])\n",
        "\n",
        "    i=0\n",
        "    for candle in candles:\n",
        "        dfstream.loc[i, ['Open']] = float(str(candle.bid.o))\n",
        "        dfstream.loc[i, ['Close']] = float(str(candle.bid.c))\n",
        "        dfstream.loc[i, ['High']] = float(str(candle.bid.h))\n",
        "        dfstream.loc[i, ['Low']] = float(str(candle.bid.l))\n",
        "        i=i+1\n",
        "\n",
        "    dfstream['Open'] = dfstream['Open'].astype(float)\n",
        "    dfstream['Close'] = dfstream['Close'].astype(float)\n",
        "    dfstream['High'] = dfstream['High'].astype(float)\n",
        "    dfstream['Low'] = dfstream['Low'].astype(float)\n",
        "\n",
        "    signal = signal_generator(dfstream.iloc[:-1,:])#\n",
        "\n",
        "    # EXECUTING ORDERS\n",
        "    #accountID = \"XXXXXXX\" #your account ID here\n",
        "    client = API(access_token)\n",
        "\n",
        "    SLTPRatio = 2.\n",
        "    previous_candleR = abs(dfstream['High'].iloc[-2]-dfstream['Low'].iloc[-2])\n",
        "\n",
        "    SLBuy = float(str(candle.bid.o))-previous_candleR\n",
        "    SLSell = float(str(candle.bid.o))+previous_candleR\n",
        "\n",
        "    TPBuy = float(str(candle.bid.o))+previous_candleR*SLTPRatio\n",
        "    TPSell = float(str(candle.bid.o))-previous_candleR*SLTPRatio\n",
        "\n",
        "    print(dfstream.iloc[:-1,:])\n",
        "    print(TPBuy, \"  \", SLBuy, \"  \", TPSell, \"  \", SLSell)\n",
        "    signal = 2\n",
        "    #Sell\n",
        "    if signal == 1:\n",
        "        mo = MarketOrderRequest(instrument=\"EUR_USD\", units=-1000, takeProfitOnFill=TakeProfitDetails(price=TPSell).data, stopLossOnFill=StopLossDetails(price=SLSell).data)\n",
        "        r = orders.OrderCreate(accountID, data=mo.data)\n",
        "        rv = client.request(r)\n",
        "        print(rv)\n",
        "    #Buy\n",
        "    elif signal == 2:\n",
        "        mo = MarketOrderRequest(instrument=\"EUR_USD\", units=1000, takeProfitOnFill=TakeProfitDetails(price=TPBuy).data, stopLossOnFill=StopLossDetails(price=SLBuy).data)\n",
        "        r = orders.OrderCreate(accountID, data=mo.data)\n",
        "        rv = client.request(r)\n",
        "        print(rv)"
      ]
    },
    {
      "cell_type": "markdown",
      "metadata": {
        "id": "dzvOHxlTurd-"
      },
      "source": [
        "### 4 - Executing orders automatically with a scheduler"
      ]
    },
    {
      "cell_type": "code",
      "execution_count": null,
      "metadata": {
        "id": "iKWN14Fmurd-"
      },
      "outputs": [],
      "source": [
        "trading_job()\n",
        "\n",
        "#scheduler = BlockingScheduler()\n",
        "#scheduler.add_job(trading_job, 'cron', day_of_week='mon-fri', hour='00-23', minute='1,16,31,46', start_date='2022-01-12 12:00:00', timezone='America/Chicago')\n",
        "#scheduler.start()"
      ]
    },
    {
      "cell_type": "code",
      "execution_count": null,
      "metadata": {
        "id": "kifkM2pnurd_"
      },
      "outputs": [],
      "source": []
    }
  ],
  "metadata": {
    "kernelspec": {
      "display_name": "Python 3.10.8 64-bit",
      "language": "python",
      "name": "python3"
    },
    "language_info": {
      "codemirror_mode": {
        "name": "ipython",
        "version": 3
      },
      "file_extension": ".py",
      "mimetype": "text/x-python",
      "name": "python",
      "nbconvert_exporter": "python",
      "pygments_lexer": "ipython3",
      "version": "3.10.8"
    },
    "vscode": {
      "interpreter": {
        "hash": "c0ff92a541b5eb8a0f75470c34280cf0dea79e8b819847822bd36e33345fddf3"
      }
    },
    "colab": {
      "provenance": [],
      "include_colab_link": true
    }
  },
  "nbformat": 4,
  "nbformat_minor": 0
}